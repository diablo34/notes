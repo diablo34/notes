{
  "nbformat": 4,
  "nbformat_minor": 0,
  "metadata": {
    "colab": {
      "name": "deployment Tool.ipynb",
      "version": "0.3.2",
      "provenance": [],
      "collapsed_sections": [],
      "include_colab_link": true
    },
    "kernelspec": {
      "name": "python3",
      "display_name": "Python 3"
    }
  },
  "cells": [
    {
      "cell_type": "markdown",
      "metadata": {
        "id": "view-in-github",
        "colab_type": "text"
      },
      "source": [
        "<a href=\"https://colab.research.google.com/github/diablo34/notes/blob/master/deployment_Tool.ipynb\" target=\"_parent\"><img src=\"https://colab.research.google.com/assets/colab-badge.svg\" alt=\"Open In Colab\"/></a>"
      ]
    },
    {
      "cell_type": "code",
      "metadata": {
        "id": "ej4BP9m_L2Fb",
        "colab_type": "code",
        "colab": {
          "base_uri": "https://localhost:8080/",
          "height": 245
        },
        "outputId": "df2ccfce-92fe-41e8-a449-f40c073f4523"
      },
      "source": [
        "from starlette.applications import Starlette\n",
        "from starlette.responses import HTMLResponse, JSONResponse\n",
        "from starlette.staticfiles import StaticFiles\n",
        "from starlette.middleware.cors import CORSMiddleware\n",
        "import uvicorn, aiohttp, asyncio\n",
        "from io import BytesIO\n",
        "\n",
        "from fastai import *\n",
        "from fastai.vision import *\n",
        "\n",
        "model_file_url = 'https://drive.google.com/file/d/1VADvxeP75NE1w4LBn9ssT2ueYIMcG42B/view?usp=sharing'\n",
        "model_file_name = 'PlasticFace-test0812.export'\n",
        "classes = ['Natual Beauty', 'Plastic Surgery']\n",
        "path = Path(__file__).parent\n",
        "\n",
        "app = Starlette()\n",
        "app.add_middleware(CORSMiddleware, allow_origins=['*'], allow_headers=['X-Requested-With', 'Content-Type'])\n",
        "app.mount('/static', StaticFiles(directory='app/static'))\n",
        "\n",
        "async def download_file(url, dest):\n",
        "    if dest.exists(): return\n",
        "    async with aiohttp.ClientSession() as session:\n",
        "        async with session.get(url) as response:\n",
        "            data = await response.read()\n",
        "            with open(dest, 'wb') as f: f.write(data)\n",
        "\n",
        "async def setup_learner():\n",
        "    await download_file(model_file_url, path/'models'/f'{model_file_name}.pth')\n",
        "    data_bunch = ImageDataBunch.single_from_classes(path, classes,\n",
        "        tfms=get_transforms(), size=224).normalize(imagenet_stats)\n",
        "    learn = cnn_learner(data_bunch, models.resnet34, pretrained=False)\n",
        "    learn.load(model_file_name)\n",
        "    return learn\n",
        "\n",
        "loop = asyncio.get_event_loop()\n",
        "tasks = [asyncio.ensure_future(setup_learner())]\n",
        "learn = loop.run_until_complete(asyncio.gather(*tasks))[0]\n",
        "loop.close()\n",
        "\n",
        "@app.route('/')\n",
        "def index(request):\n",
        "    html = path/'view'/'index.html'\n",
        "    return HTMLResponse(html.open().read())\n",
        "\n",
        "@app.route('/analyze', methods=['POST'])\n",
        "async def analyze(request):\n",
        "    data = await request.form()\n",
        "    img_bytes = await (data['file'].read())\n",
        "    img = open_image(BytesIO(img_bytes))\n",
        "    return JSONResponse({'result': learn.predict(img)[0]})\n",
        "\n",
        "if __name__ == '__main__':\n",
        "    if 'serve' in sys.argv: uvicorn.run(app, host='0.0.0.0', port=8080)\n"
      ],
      "execution_count": 12,
      "outputs": [
        {
          "output_type": "error",
          "ename": "NameError",
          "evalue": "ignored",
          "traceback": [
            "\u001b[0;31m---------------------------------------------------------------------------\u001b[0m",
            "\u001b[0;31mNameError\u001b[0m                                 Traceback (most recent call last)",
            "\u001b[0;32m<ipython-input-12-0b5ebb984359>\u001b[0m in \u001b[0;36m<module>\u001b[0;34m()\u001b[0m\n\u001b[1;32m     12\u001b[0m \u001b[0mmodel_file_name\u001b[0m \u001b[0;34m=\u001b[0m \u001b[0;34m'PlasticFace-test0812.export'\u001b[0m\u001b[0;34m\u001b[0m\u001b[0;34m\u001b[0m\u001b[0m\n\u001b[1;32m     13\u001b[0m \u001b[0mclasses\u001b[0m \u001b[0;34m=\u001b[0m \u001b[0;34m[\u001b[0m\u001b[0;34m'Natual Beauty'\u001b[0m\u001b[0;34m,\u001b[0m \u001b[0;34m'Plastic Surgery'\u001b[0m\u001b[0;34m]\u001b[0m\u001b[0;34m\u001b[0m\u001b[0;34m\u001b[0m\u001b[0m\n\u001b[0;32m---> 14\u001b[0;31m \u001b[0mpath\u001b[0m \u001b[0;34m=\u001b[0m \u001b[0mPath\u001b[0m\u001b[0;34m(\u001b[0m\u001b[0m__file__\u001b[0m\u001b[0;34m)\u001b[0m\u001b[0;34m.\u001b[0m\u001b[0mparent\u001b[0m\u001b[0;34m\u001b[0m\u001b[0;34m\u001b[0m\u001b[0m\n\u001b[0m\u001b[1;32m     15\u001b[0m \u001b[0;34m\u001b[0m\u001b[0m\n\u001b[1;32m     16\u001b[0m \u001b[0mapp\u001b[0m \u001b[0;34m=\u001b[0m \u001b[0mStarlette\u001b[0m\u001b[0;34m(\u001b[0m\u001b[0;34m)\u001b[0m\u001b[0;34m\u001b[0m\u001b[0;34m\u001b[0m\u001b[0m\n",
            "\u001b[0;31mNameError\u001b[0m: name '__file__' is not defined"
          ]
        }
      ]
    },
    {
      "cell_type": "code",
      "metadata": {
        "id": "05p7uiAHL3DI",
        "colab_type": "code",
        "colab": {}
      },
      "source": [
        ""
      ],
      "execution_count": 0,
      "outputs": []
    }
  ]
}